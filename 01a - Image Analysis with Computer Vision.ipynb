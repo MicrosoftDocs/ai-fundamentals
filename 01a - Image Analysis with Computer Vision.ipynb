{
 "cells": [
  {
   "cell_type": "markdown",
   "metadata": {},
   "source": [
    "# Computer Vision Service用いた画像解析\n",
    "\n",
    "<p style='text-align:center'><img src='./images/computer_vision.jpg' alt='写真を持っているロボット'/></p>\n",
    "\n",
    "\n",
    "*コンピュータビジョン*は、カメラを介してリアルタイムに、あるいは画像や映像を解析することで、世界を「見る」ことができるAIシステムの開発を目指す人工知能（AI）の一分野です。これは、デジタル画像が基本的に数値のピクセル値の配列であるという事実によって可能になり、それらのピクセル値を*特徴*として使用して機械学習モデルを訓練することができます。\n",
    "\n",
    "## Computer Vision Cognitive Serviceを使う\n",
    "\n",
    "Microsoft Azureには、一般的なAI機能をカプセル化した多くの *cognitive services* が含まれており、その中にはコンピュータビジョンソリューションの構築に役立つものも含まれています。\n",
    "\n",
    "*コンピュータビジョン* コグニティブサービスは、Azureでのコンピュータビジョンの探索の出発点となるものです。これは、事前に訓練された機械学習モデルを使用して画像を分析し、画像に関する情報を抽出します。\n",
    "\n",
    "例えば、Northwind Tradersが「スマートストア」を実装することを決めたとしましょう。コンピュータビジョンサービスを利用することで、店舗内の至る所に設置されたカメラで撮影された画像を分析して、何を描写しているのかを意味のある説明をすることができるようになります。\n",
    "\n",
    "\n",
    "まずはAzureサブスクリプションで **Cognitive services** リソースを作成してみましょう。:\n",
    "\n",
    "1. 別のブラウザタブで、https://portal.azure.com の Azure ポータルを開き、Microsoft アカウントでサインインします。\n",
    "2. **[&#65291;リソースの作成]**ボタンをクリックして、*Cognitive Services* を検索し、次の設定で**Cognitive Services**リソースを作成します。:\n",
    "    - **Name**: *一意の名前を入力してください*.\n",
    "    - **Subscription**: *Azureサブスクリプション*.\n",
    "    - **Location**: *利用可能なリージョンを選択します*.\n",
    "    - **Pricing tier**: S0\n",
    "    - **Resource group**: *一意な名前を持つリソースグループを作成します*.\n",
    "3. デプロイが完了するのを待ちます。次に、Cognitive Servicesリソースに移動し、**クイックスタート** ページで、キーとエンドポイントに注意してください。クライアント アプリケーションからCognitive Services リソースに接続するには、これらが必要です。\n",
    "4. リソースの **Key1** をコピーして、**YOUR_COG_KEY** を置き換えて、以下のコードに貼り付けます。\n",
    "5. リソースの **endpoint** をコピーして、以下のコードに貼り付け、 **YOUR_COG_ENDPOINT** を置き換えます\n",
    "6. 下のセルの緑色の<span style=\"color:green\">&#9655</span>ボタン（セルの左上）をクリックして、下のセルでコードを実行します。"
   ]
  },
  {
   "cell_type": "code",
   "execution_count": null,
   "metadata": {
    "tags": []
   },
   "outputs": [],
   "source": [
    "cog_key = 'YOUR_COG_KEY'\n",
    "cog_endpoint = 'YOUR_COG_ENDPOINT'\n",
    "\n",
    "print('キー{}を使用して{}でCognitive Servicesを使用する準備ができました。'.format(cog_key, cog_endpoint))"
   ]
  },
  {
   "cell_type": "markdown",
   "metadata": {},
   "source": [
    "これでキーとエンドポイントの設定が完了しました。\n",
    "\n",
    "次のステップへ進む前に、AzureのCognitive Servicesの関連パッケージのインストールが必要になります。以下のセルを実行してください："
   ]
  },
  {
   "source": [
    "! pip install azure-cognitiveservices-vision-computervision"
   ],
   "cell_type": "code",
   "metadata": {
    "tags": []
   },
   "execution_count": null,
   "outputs": []
  },
  {
   "source": [
    "これで設定が完了しましたので、カスタムビジョンサービスを使用して画像を解析することができます。\n",
    "\n",
    "以下のセルを実行して、/data/vision/store_cam1.jpg ファイル内の画像の説明を取得します。"
   ],
   "cell_type": "markdown",
   "metadata": {}
  },
  {
   "cell_type": "code",
   "execution_count": null,
   "metadata": {},
   "outputs": [],
   "source": [
    "from azure.cognitiveservices.vision.computervision import ComputerVisionClient\n",
    "from msrest.authentication import CognitiveServicesCredentials\n",
    "from python_code import vision\n",
    "import os\n",
    "%matplotlib inline\n",
    "\n",
    "# 画像ファイルへのパスを取得します\n",
    "image_path = os.path.join('data', 'vision', 'store_cam1.jpg')\n",
    "\n",
    "# computer vision serviceのクライアントを初期化する\n",
    "computervision_client = ComputerVisionClient(cog_endpoint, CognitiveServicesCredentials(cog_key))\n",
    "\n",
    "# computer vision serviceから説明を得る\n",
    "image_stream = open(image_path, \"rb\")\n",
    "description = computervision_client.describe_image_in_stream(image_stream)\n",
    "\n",
    "# 画像とキャプションを表示する (コードはhelper_scripts/vision.pyにあります)\n",
    "vision.show_image_caption(image_path, description)\n"
   ]
  },
  {
   "cell_type": "markdown",
   "metadata": {},
   "source": [
    "妥当な精度のようですね。\n",
    "\n",
    "別の画像を見てみよう"
   ]
  },
  {
   "cell_type": "code",
   "execution_count": null,
   "metadata": {},
   "outputs": [],
   "source": [
    "# 画像ファイルへのパスを取得します\n",
    "image_path = os.path.join('data', 'vision', 'store_cam2.jpg')\n",
    "\n",
    "# コンピュータビジョンサービスから説明を得る\n",
    "image_stream = open(image_path, \"rb\")\n",
    "description = computervision_client.describe_image_in_stream(image_stream)\n",
    "\n",
    "# 画像とキャプションを表示する (コードはhelper_scripts/vision.pyにあります)\n",
    "vision.show_image_caption(image_path, description)"
   ]
  },
  {
   "cell_type": "markdown",
   "metadata": {},
   "source": [
    "繰り返しになりますが、提案されたキャプションはかなり正確なようです。\n",
    "\n",
    "## 画像の特徴を分析する\n",
    "\n",
    "ここまでで、Computer Vision serviceを使用して、いくつかの画像に説明的なキャプションを作成しましたが、できることはもっとたくさんあります。Computer Vision serviceは、以下のような詳細な情報を抽出できる分析機能を提供します。\n",
    "\n",
    "- 画像内で検出された一般的な種類の物体の位置。\n",
    "- 画像に写っている人の顔の位置、性別、年齢の目安。\n",
    "- 画像に「アダルト」、「レイシー」、「グロい」コンテンツが含まれているかどうか。\n",
    "- 画像を見つけやすくするために、データベースにある画像に関連するタグ。\n",
    "\n",
    "以下のコードを実行して、買い物客の画像を分析します。"
   ]
  },
  {
   "cell_type": "code",
   "execution_count": null,
   "metadata": {},
   "outputs": [],
   "source": [
    "# 画像ファイルへのパスを取得する\n",
    "image_path = os.path.join('data', 'vision', 'store_cam1.jpg')\n",
    "\n",
    "# 解析したい機能を指定します\n",
    "features = ['Description', 'Tags', 'Adult', 'Objects', 'Faces']\n",
    "\n",
    "# computer vision serviceから解析結果を受ける\n",
    "image_stream = open(image_path, \"rb\")\n",
    "analysis = computervision_client.analyze_image_in_stream(image_stream, visual_features=features)\n",
    "\n",
    "# 解析結果を表示する (コードはhelper_scripts/vision.pyにあります)\n",
    "vision.show_image_analysis(image_path, analysis)"
   ]
  },
  {
   "cell_type": "markdown",
   "metadata": {},
   "source": [
    "## Learn More\n",
    "\n",
    "このノートブックで探索した機能に加えて、Computer Vision cognitive serviceには以下の機能が含まれています。\n",
    "\n",
    "- 画像内の有名人を識別する。\n",
    "- 画像内のブランドロゴを検出する\n",
    "- 光学式文字認識（OCR）を実行して、画像内のテキストを読み取る。\n",
    "\n",
    "コンピュータビジョンコグニティブサービスの詳細については、[コンピュータビジョンのドキュメント] (https://docs.microsoft.com/azure/cognitive-services/computer-vision/)を参照してください。"
   ]
  }
 ],
 "metadata": {
  "kernelspec": {
   "name": "Python 3.8.6 32-bit",
   "display_name": "Python 3.8.6 32-bit",
   "metadata": {
    "interpreter": {
     "hash": "c617fa10d1ba9d6a36573c3c4f7496e3bb2fbcdd4aeff3a055aadb58d26c8355"
    }
   }
  },
  "language_info": {
   "codemirror_mode": {
    "name": "ipython",
    "version": 3
   },
   "file_extension": ".py",
   "mimetype": "text/x-python",
   "name": "python",
   "nbconvert_exporter": "python",
   "pygments_lexer": "ipython3",
   "version": "3.8.6-final"
  }
 },
 "nbformat": 4,
 "nbformat_minor": 4
}