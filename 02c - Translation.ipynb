{
 "cells": [
  {
   "cell_type": "markdown",
   "metadata": {},
   "source": [
    "# Translation(翻訳)\n",
    "\n",
    "人類が文明を発展させてきた原動力の一つは、お互いにコミュニケーションをとる能力です。ほとんどの人間の努力において、コミュニケーションが鍵を握っています。\n",
    "\n",
    "<p style='text-align:center'><img src='./images/translation.jpg' alt='多言語ロボット'/></p>\n",
    "\n",
    "人工知能（AI）は、言語間のテキストや音声を翻訳することでコミュニケーションを簡素化し、国や文化を超えたコミュニケーションの障壁を取り除くのに役立ちます。\n",
    "\n",
    "## Cognitive Servicesリソースの作成\n",
    "\n",
    "これらのレビューのテキストを分析するには、**Text Analytics**コグニティブサービスを使用できます。これを使用するには、Azureサブスクリプションで**Text Analytics**または**Cognitive Services**リソースのいずれかをプロビジョニングする必要があります(これが唯一のサービスであるか、またはその使用状況を個別に追跡したい場合は、Text Analyticsリソースを使用してください。それ以外の場合は、コグニティブサービスリソースを使用してText Analyticsサービスを他のコグニティブサービスと組み合わせることができます。)\n",
    "\n",
    "まだ持っていない場合は、次の手順を使用して、Azureサブスクリプションで**Cognitive Services**リソースを作成します。\n",
    "\n",
    "1. 別のブラウザタブで、https://portal.azure.com の Azure ポータルを開き、Microsoft アカウントでサインインします。\n",
    "2. **[&#65291;リソースの作成]**ボタンをクリックして、*Cognitive Services*を検索し、次の設定で**Cognitive Services**リソースを作成します。:\n",
    "    - **Name**:  *一意の名前を入力してください*\n",
    "    - **Subscription**: *あなたのAzureサブスクリプション*\n",
    "    - **Location**: *利用可能な場所*\n",
    "    - **Pricing tier**: S0\n",
    "    - **Resource group**: *固有の名前を持つリソースグループ*を作成\n",
    "3. デプロイが完了するのを待ちます。次に、コグニティブサービスリソースに移動し、**クイックスタート**ページで、キーとエンドポイントに注意してください。クライアント アプリケーションからコグニティブ サービス リソースに接続するには、これらが必要です。\n",
    "\n",
    "## Cognitive Servicesリソースのキーとエンドポイントを取得する\n",
    "\n",
    "認知サービス リソースを使用するには、クライアント アプリケーションにそのエンドポイントと認証キーが必要です。\n",
    "\n",
    "1. Azure ポータルで、コグニティブサービスリソースの **クイックスタート** ページで、リソースの **Key1** をコピーして、**YOUR_COG_KEY** を置き換えて、以下のコードに貼り付けます。\n",
    "2. 2. リソースの **endpoint** をコピーして、以下のコードに貼り付けて、 **YOUR_COG_ENDPOINT** を置き換えます。\n",
    "3. 3. 以下のセルを実行します。"
   ]
  },
  {
   "cell_type": "code",
   "execution_count": null,
   "metadata": {},
   "outputs": [],
   "source": [
    "cog_key = 'YOUR_COG_KEY'\n",
    "cog_endpoint = 'YOUR_COG_ENDPOINT'\n",
    "cog_region = 'YOUR_COG_REGION'\n",
    "\n",
    "print('Ready to use cognitive services in {} using key {}'.format(cog_region, cog_key))"
   ]
  },
  {
   "cell_type": "markdown",
   "metadata": {},
   "source": [
    "## テキストを翻訳する\n",
    "\n",
    "その名が示すように、**Translator Text** サービスは、ある言語から別の言語へのテキスト翻訳を可能にします。\n",
    "\n",
    "このサービスのための Python SDK はありませんが、その REST インターフェイスを使って HTTP 経由でエンドポイントにリクエストを送信することができ、 **requests** ライブラリを使うことで比較的簡単に Python で行うことができます。翻訳するテキストに関する情報と、翻訳された結果のテキストをJSON形式でやり取りします。\n",
    "\n",
    "以下のセルを実行して、これを行う関数を作成し、英語からフランス語への簡単な翻訳で関数をテストします。"
   ]
  },
  {
   "cell_type": "code",
   "execution_count": null,
   "metadata": {},
   "outputs": [],
   "source": [
    "# テキスト翻訳サービスへのRESTリクエストを行う関数を作成します\n",
    "def translate_text(cog_region, cog_key, text, to_lang='fr', from_lang='en'):\n",
    "    import requests, uuid, json\n",
    "\n",
    "    # Text TranslatorサービスのRESTリクエスト用のURLを作成します。\n",
    "    path = 'https://api.cognitive.microsofttranslator.com/translate?api-version=3.0'\n",
    "    params = '&from={}&to={}'.format(from_lang, to_lang)\n",
    "    constructed_url = path + params\n",
    "\n",
    "    # Cognitive Services のリソースキーと地域を含むリクエストヘッダーを準備する\n",
    "    headers = {\n",
    "        'Ocp-Apim-Subscription-Key': cog_key,\n",
    "        'Ocp-Apim-Subscription-Region':cog_region,\n",
    "        'Content-type': 'application/json',\n",
    "        'X-ClientTraceId': str(uuid.uuid4())\n",
    "    }\n",
    "\n",
    "    # 本文に翻訳されるテキストを追加する\n",
    "    body = [{\n",
    "        'text': text\n",
    "    }]\n",
    "\n",
    "    # 翻訳を取得する\n",
    "    request = requests.post(constructed_url, headers=headers, json=body)\n",
    "    response = request.json()\n",
    "    return response[0][\"translations\"][0][\"text\"]\n",
    "\n",
    "\n",
    "# 関数をテストする\n",
    "text_to_translate = \"Hello\"\n",
    "\n",
    "translation = translate_text(cog_region, cog_key, text_to_translate, to_lang='fr', from_lang='en')\n",
    "print('{} -> {}'.format(text_to_translate,translation))"
   ]
  },
  {
   "cell_type": "markdown",
   "metadata": {},
   "source": [
    "サービスは英語のテキスト \"Hello \"をフランス語の \"Bonjour \"に翻訳しているはずです。\n",
    "\n",
    "言語は、英語では*en*、フランス語では*fr*と、標準的な言語省略形のシステムを使用して指定されていることに注意してください。また、特定の文化を含む略語を使用することもできます。これは、同じ言語が地理的に異なる地域で使用されている場合に便利です。たとえば、*en-US* はアメリカ合衆国の英語を、*en-GB* はイギリスの英語を表します。\n",
    "\n",
    "次のセルを実行して、イギリス英語とイタリア語を翻訳します。"
   ]
  },
  {
   "cell_type": "code",
   "execution_count": null,
   "metadata": {},
   "outputs": [],
   "source": [
    "text_to_translate = \"Hello\"\n",
    "\n",
    "translation = translate_text(cog_region, cog_key, text_to_translate, to_lang='it-IT', from_lang='en-GB')\n",
    "print('{} -> {}'.format(text_to_translate,translation))"
   ]
  },
  {
   "cell_type": "markdown",
   "metadata": {},
   "source": [
    "今度はアメリカ英語からアメリカスペイン語に翻訳してみましょう。"
   ]
  },
  {
   "cell_type": "code",
   "execution_count": null,
   "metadata": {},
   "outputs": [],
   "source": [
    "text_to_translate = \"Hola\"\n",
    "\n",
    "translation = translate_text(cog_region, cog_key, text_to_translate, to_lang='en-US', from_lang='es-US')\n",
    "print('{} -> {}'.format(text_to_translate,translation))"
   ]
  },
  {
   "cell_type": "markdown",
   "metadata": {},
   "source": [
    "特定のリンガス系イディオムの直訳がない場合もあります。例えば、英語の「hello」は中国語のような言語では文字通りの等価語がないかもしれませんが、一般的に使用されている等価語句が存在するかもしれません。\n",
    "\n",
    "以下のセルを実行して、英単語「hello」を中国語に翻訳し、翻訳を逆にして同等のものを見てみましょう。"
   ]
  },
  {
   "cell_type": "code",
   "execution_count": null,
   "metadata": {},
   "outputs": [],
   "source": [
    "text_to_translate = \"Hello\"\n",
    "\n",
    "translation = translate_text(cog_region, cog_key, text_to_translate, to_lang='zh-CN', from_lang='es-US')\n",
    "print('{} -> {}'.format(text_to_translate,translation))\n",
    "\n",
    "reverse_translation = translate_text(cog_region, cog_key, translation, to_lang='en-US', from_lang='zh-CN')\n",
    "print('{} -> {}'.format(translation, reverse_translation))"
   ]
  },
  {
   "cell_type": "markdown",
   "metadata": {},
   "source": [
    "## Speech Translation(音声翻訳)\n",
    "\n",
    "音声言語を翻訳するには **Speech** サービスを使用することができます。\n",
    "\n",
    "SpeechサービスはPython SDKを提供しており、マイクやオーディオファイルから入力された可聴音声を翻訳するために使用することができます。\n",
    "\n",
    "次のセルを実行して、可聴音声を翻訳する関数を作成してテストします。\n",
    "\n",
    "> **注**. 音声を聞くにはスピーカーが必要です。"
   ]
  },
  {
   "cell_type": "code",
   "execution_count": null,
   "metadata": {},
   "outputs": [],
   "source": [
    "# ある言語の音声を別の言語のテキストに翻訳する関数を作成する\n",
    "def translate_speech(cog_region, cog_key, audio_file=None, to_lang='fr-FR', from_lang='en-US'):\n",
    "    from azure.cognitiveservices.speech import SpeechConfig, AudioConfig, ResultReason\n",
    "    from azure.cognitiveservices.speech.translation import SpeechTranslationConfig, TranslationRecognizer\n",
    "\n",
    "    # 音声翻訳サービスの設定\n",
    "    translation_config = SpeechTranslationConfig(subscription=cog_key, region=cog_region)\n",
    "    translation_config.speech_recognition_language = from_lang\n",
    "    translation_config.add_target_language(to_lang)\n",
    "\n",
    "    # オーディオ入力の設定\n",
    "    if audio_file is None:\n",
    "        audio_config = AudioConfig() # Use default input (microphone)\n",
    "    else:\n",
    "        audio_config = AudioConfig(filename=audio_file) # Use file input\n",
    "\n",
    "    # 翻訳認識器を作成し、音声入力の翻訳に使用する\n",
    "    recognizer = TranslationRecognizer(translation_config, audio_config)\n",
    "    result = recognizer.recognize_once()\n",
    "\n",
    "    # 届きましたか？\n",
    "    translation = ''\n",
    "    speech_text = ''\n",
    "    if result.reason == ResultReason.TranslatedSpeech:\n",
    "        speech_text = result.text\n",
    "        translation =  result.translations[to_lang]\n",
    "    elif result.reason == ResultReason.RecognizedSpeech:\n",
    "        speech_text = result.text\n",
    "        translation =  'Unable to translate speech'\n",
    "    else:\n",
    "        translation = 'Unknown'\n",
    "        speech_text = 'Unknown'\n",
    "\n",
    "    # 翻訳を返す\n",
    "    return speech_text, translation\n",
    "    \n",
    "\n",
    "# 関数をテストする\n",
    "import os, IPython\n",
    "\n",
    "file_name = 'english.wav'\n",
    "file_path = os.path.join('data', 'translation', file_name)\n",
    "speech, translated_speech = translate_speech(cog_region, cog_key, file_path, to_lang='es', from_lang='en-US')\n",
    "result = '{} -> {}'.format(speech, translated_speech)\n",
    "\n",
    "# オーディオを再生し、翻訳されたテキストを表示する\n",
    "IPython.display.display(IPython.display.Audio(file_path, autoplay=True),\n",
    "                        IPython.display.HTML(result))"
   ]
  },
  {
   "cell_type": "markdown",
   "metadata": {},
   "source": [
    "「to」の言語は2文字の言語コード(例: *en*)を使用して識別する必要があり、「from」の言語は文化指標(例: *en-US*)を含む必要があることに注意してください。\n",
    "\n",
    "フランス語から英語に翻訳してみましょう。"
   ]
  },
  {
   "cell_type": "code",
   "execution_count": null,
   "metadata": {},
   "outputs": [],
   "source": [
    "import os, IPython\n",
    "\n",
    "file_name = 'french.wav'\n",
    "file_path = os.path.join('data', 'translation', file_name)\n",
    "speech, translated_speech = translate_speech(cog_region, cog_key, file_path, to_lang='en', from_lang='fr-FR')\n",
    "result = '{} -> {}'.format(speech, translated_speech)\n",
    "\n",
    "# オーディオを再生し、翻訳されたテキストを表示する\n",
    "IPython.display.display(IPython.display.Audio(file_path, autoplay=True),\n",
    "                        IPython.display.HTML(result))"
   ]
  },
  {
   "cell_type": "markdown",
   "metadata": {},
   "source": [
    "## Learn More\n",
    "\n",
    "[Translator Text\n",
    "](https://docs.microsoft.com/azure/cognitive-services/translator/)や[translation with the Speech service](https://docs.microsoft.com/azure/cognitive-services/speech-service/index-speech-translation)については、サービスドキュメントで詳しく説明しています。"
   ]
  },
  {
   "cell_type": "code",
   "execution_count": null,
   "metadata": {},
   "outputs": [],
   "source": []
  }
 ],
 "metadata": {
  "kernelspec": {
   "display_name": "Python 3",
   "language": "python",
   "name": "python3"
  },
  "language_info": {
   "codemirror_mode": {
    "name": "ipython",
    "version": 3
   },
   "file_extension": ".py",
   "mimetype": "text/x-python",
   "name": "python",
   "nbconvert_exporter": "python",
   "pygments_lexer": "ipython3",
   "version": "3.6.9"
  }
 },
 "nbformat": 4,
 "nbformat_minor": 4
}