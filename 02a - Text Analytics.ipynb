{
 "nbformat": 4,
 "nbformat_minor": 2,
 "metadata": {
  "language_info": {
   "name": "python",
   "codemirror_mode": {
    "name": "ipython",
    "version": 3
   },
   "version": "3.5.3-final"
  },
  "kernelspec": {
   "name": "python35364bit4d76819191a64a1cabaaf779ae342c5d",
   "display_name": "Python 3.5.3 64-bit"
  }
 },
 "cells": [
  {
   "cell_type": "markdown",
   "execution_count": null,
   "metadata": {},
   "outputs": [],
   "source": [
    "# Text Analytics\n",
    "\n",
    "Natural Language Processing (NLP) is a branch of artificial intelligence (AI) that deals with written and spoken language. You can use NLP to build solutions that extracting semantic meaning from text or speech, or that formulate meaningful responses in natural language.\n",
    "\n",
    "Microsoft Azure *cognitive services* includes the *Text Analytics* service, which provides some out-of-the-box NLP capabilities, including the identification of key phrases in text, and the classification of text based on sentiment.\n",
    "\n",
    "<p style='text-align:center'><img src='./images/NLP.jpg' alt='A robot reading a notebook'/></p>\n",
    "\n",
    "For example, suppose the fictional *Margie's Travel* organization encourages customers to submit reviews for hotel stays. You could use the Text Analytics service to summarize the reviews by extracting key phrases, determine which reviews are positive and which are negative, or analyze the review text for mentions of known entities such as locations or people.\n",
    "\n",
    "## View Review Documents\n",
    "\n",
    "Let's start by taking a look at some hotel reviews that have been left by customers.\n",
    "\n",
    "The reviews are in text files. To see them, just run the cell below by clicking its green <span style=\"color:green\">&#9655</span> button (at the top left of the cell)."
   ]
  },
  {
   "cell_type": "code",
   "execution_count": 1,
   "metadata": {},
   "outputs": [
    {
     "output_type": "stream",
     "name": "stdout",
     "text": "review4.txt \n Very noisy and rooms are tiny\nThe Lombard Hotel, San Francisco, USA\n9/5/2018\nHotel is located on Lombard street which is a very busy SIX lane street directly off the Golden Gate Bridge. Traffic from early morning until late at night especially on weekends. Noise would not be so bad if rooms were better insulated but they are not. Had to put cotton balls in my ears to be able to sleep--was too tired to enjoy the city the next day. Rooms are TINY. I picked the room because it had two queen size beds--but the room barely had space to fit them. With family of four in the room it was tight. With all that said, rooms are clean and they've made an effort to update them. The hotel is in Marina district with lots of good places to eat, within walking distance to Presidio. May be good hotel for young stay-up-late adults on a budget\n \n\nreview1.txt \n Good Hotel and staff\nThe Royal Hotel, London, UK\n3/2/2018\nClean rooms, good service, great location near Buckingham Palace and Westminster Abbey, and so on. We thoroughly enjoyed our stay. The courtyard is very peaceful and we went to a restaurant which is part of the same group and is Indian ( West coast so plenty of fish) with a Michelin Star. We had the taster menu which was fabulous. The rooms were very well appointed with a kitchen, lounge, bedroom and enormous bathroom. Thoroughly recommended. \n\nreview3.txt \n Good location and helpful staff, but on a busy road.\nThe Lombard Hotel, San Francisco, USA\n8/16/2018\nWe stayed here in August after reading reviews. We were very pleased with location, just behind Chestnut Street, a cosmopolitan and trendy area with plenty of restaurants to choose from. The\nMarina district was lovely to wander through, very interesting houses. Make sure to walk to the San Francisco Museum of Fine Arts and the Marina to get a good view of Golden Gate bridge and the city. On a bus route and easy to get into centre. Rooms were clean with plenty of room and staff were friendly and helpful. The only down side was the noise from Lombard Street so ask to have a room furthest away from traffic noise. \n\nreview2.txt \n Tired hotel with poor service\nThe Royal Hotel, London, United Kingdom\n5/6/2018\nThis is a old hotel (has been around since 1950's) and the room furnishings are average - becoming a bit old now and require changing. The internet didn't work and had to come to one of their office rooms to check in for my flight home. The website says it's close to the British Museum, but it's too far to walk. \n\n"
    }
   ],
   "source": [
    "import os\n",
    "\n",
    "# Read the reviews in the /data/reviews folder\n",
    "reviews_folder = os.path.join('data', 'text', 'reviews')\n",
    "reviews = []\n",
    "for file_name in os.listdir(reviews_folder):\n",
    "    review_text = open(os.path.join(reviews_folder, file_name)).read()\n",
    "    review = {\"id\": file_name, \"language\": \"en\", \"text\": review_text}\n",
    "    reviews.append(review)\n",
    "\n",
    "for review_num in range(len(reviews)):\n",
    "    # print the review text\n",
    "    print(reviews[review_num]['id'], '\\n', reviews[review_num]['text'],'\\n')"
   ]
  },
  {
   "cell_type": "markdown",
   "execution_count": null,
   "metadata": {},
   "outputs": [],
   "source": [
    "## Create a Cognitive Services Resource\n",
    "\n",
    "To analyze the text in these reviews, you can use the **Text Analytics** cognitive service. To use this, you need to provision either a **Text Analytics** or **Cognitive Services** resource in your Azure subscription (Use a Text Analytics resource if this is the only service you plan to use or you want to track its usage separately; otherwise you can use a Cognitive Services resource to combine the Text Analytics service with other cognitive services - enabling developers to use a single endpoint and key to access them.)\n",
    "\n",
    "If you don't already have one, use the following steps to create a **Cognitive Services** resource in your Azure subscription:\n",
    "\n",
    "1. In another browser tab, open the Azure portal at https://portal.azure.com, signing in with your Microsoft account.\n",
    "2. Click the **&#65291;Create a resource** button, search for *Cognitive Services*, and create a **Cognitive Services** resource with the following settings:\n",
    "    - **Name**: *Enter a unique name*.\n",
    "    - **Subscription**: *Your Azure subscription*.\n",
    "    - **Location**: *Any available location*.\n",
    "    - **Pricing tier**: S0\n",
    "    - **Resource group**: *Create a resource group with a unique name*.\n",
    "3. Wait for deployment to complete. Then go to your cognitive services resource, and on the **Quick start** page, note the keys and endpoint. You will need these to connect to your cognitive services resource from client applications.\n",
    "\n",
    "## Get the Key and Endpoint for your Cognitive Services Resource\n",
    "\n",
    "To use your cognitive services resource, client applications need its  endpoint and authentication key:\n",
    "\n",
    "1. In the Azure portal, on the **Quick start** page for your Cognitive Services resource, copy the **Key1** for your resource and paste it in the code below, replacing **YOUR_COG_KEY**.\n",
    "2. Copy the **endpoint** for your resource and and paste it in the code below, replacing **YOUR_COG_ENDPOINT**.\n",
    "3. Run the cell below."
   ]
  },
  {
   "cell_type": "code",
   "execution_count": 2,
   "metadata": {},
   "outputs": [
    {
     "output_type": "stream",
     "name": "stdout",
     "text": "Ready to use cognitive services at https://westus2.api.cognitive.microsoft.com/ using key 50de79fcdc0d44bcaaee82326c50a9bd\n"
    }
   ],
   "source": [
    "cog_key = 'YOUR_COG_KEY'\n",
    "cog_endpoint = 'YOUR_COG_ENDPOINT'\n",
    "\n",
    "print('Ready to use cognitive services at {} using key {}'.format(cog_endpoint, cog_key))"
   ]
  },
  {
   "cell_type": "markdown",
   "execution_count": null,
   "metadata": {},
   "outputs": [],
   "source": [
    "## Extract Key Phrases\n",
    "\n",
    "Let's start by analyzing the text in the customer reviews to identify key phrases that give some indication of the main talking points."
   ]
  },
  {
   "cell_type": "code",
   "execution_count": 3,
   "metadata": {},
   "outputs": [
    {
     "output_type": "stream",
     "name": "stdout",
     "text": "review4.txt\n\nKey Phrases:\n\t rooms\n\t good hotel\n\t Lombard Hotel\n\t Lombard street\n\t late adults\n\t good places\n\t lane street\n\t young stay\n\t night\n\t early morning\n\t Marina district\n\t San Francisco\n\t USA\n\t Golden Gate Bridge\n\t walking distance\n\t queen size beds\n\t ears\n\t Traffic\n\t cotton balls\n\t city\n\t Presidio\n\t weekends\n\t budget\n\t day\n\t effort\n\t Noise\n\t space\n\t family\n\n\nreview1.txt\n\nKey Phrases:\n\t Good Hotel\n\t good service\n\t Clean rooms\n\t Royal Hotel\n\t great location\n\t Buckingham Palace\n\t Westminster Abbey\n\t fish\n\t West coast\n\t lounge\n\t bedroom\n\t enormous bathroom\n\t group\n\t kitchen\n\t London\n\t UK\n\t taster menu\n\t Michelin Star\n\t staff\n\t courtyard\n\n\nreview3.txt\n\nKey Phrases:\n\t helpful staff\n\t Lombard Street\n\t Good location\n\t Chestnut Street\n\t Lombard Hotel\n\t Marina district\n\t traffic noise\n\t San Francisco Museum of Fine Arts\n\t good view of Golden Gate bridge\n\t trendy area\n\t USA\n\t city\n\t bus route\n\t busy road\n\t centre\n\t restaurants\n\t Rooms\n\t interesting houses\n\t reviews\n\n\nreview2.txt\n\nKey Phrases:\n\t old hotel\n\t Royal Hotel\n\t Tired hotel\n\t London\n\t United Kingdom\n\t room furnishings\n\t poor service\n\t British Museum\n\t website\n\t office rooms\n\t flight home\n\t internet\n\n\n"
    }
   ],
   "source": [
    "import os\n",
    "from azure.cognitiveservices.language.textanalytics import TextAnalyticsClient\n",
    "from msrest.authentication import CognitiveServicesCredentials\n",
    "\n",
    "# Get a client for your text analytics cognitive service resource\n",
    "text_analytics_client = TextAnalyticsClient(endpoint=cog_endpoint,\n",
    "                                            credentials=CognitiveServicesCredentials(cog_key))\n",
    "\n",
    "# Analyze the reviews you read from the /data/reviews folder earlier\n",
    "key_phrase_analysis = text_analytics_client.key_phrases(documents=reviews)\n",
    "\n",
    "# print review text for each review\n",
    "for review_num in range(len(reviews)):\n",
    "    # print the review text\n",
    "    print(reviews[review_num]['id'])\n",
    "\n",
    "    # Get the key phrases in this review\n",
    "    print('\\nKey Phrases:')\n",
    "    key_phrases = key_phrase_analysis.documents[review_num].key_phrases\n",
    "    for key_phrase in key_phrases:\n",
    "        print('\\t', key_phrase)\n",
    "    print('\\n')"
   ]
  },
  {
   "cell_type": "markdown",
   "execution_count": null,
   "metadata": {},
   "outputs": [],
   "source": [
    "The key phrases can help you gain an understanding of the most important talking points in each review. For example, a review containing a phrase \"helpful staff\" or \"poor service\" can give you an indication of some of the main concerns of the reviewer.\n",
    "\n",
    "## Determine Sentiment\n",
    "\n",
    "It might be useful to classify the reviews as *positive* or *negative* based on a *sentiment score*. Again, you can use the Text Analytics service to do this."
   ]
  },
  {
   "cell_type": "code",
   "execution_count": 4,
   "metadata": {},
   "outputs": [
    {
     "output_type": "stream",
     "name": "stdout",
     "text": "review4.txt : negative (0.0739937424659729)\nreview1.txt : positive (0.9926161766052246)\nreview3.txt : positive (0.9941426515579224)\nreview2.txt : negative (0.025993913412094116)\n"
    }
   ],
   "source": [
    "# Use the client and reviews you created in the previous code cells to get sentiment scores\n",
    "sentiment_analysis = text_analytics_client.sentiment(documents=reviews)\n",
    "\n",
    "# Print the results for each review\n",
    "for review_num in range(len(reviews)):\n",
    "\n",
    "    # Get the sentiment score for this review\n",
    "    sentiment_score = sentiment_analysis.documents[review_num].score\n",
    "\n",
    "    # classifiy 'positive' if more than 0.5, \n",
    "    if sentiment_score < 0.5:\n",
    "        sentiment = 'negative'\n",
    "    else:\n",
    "        sentiment = 'positive'\n",
    "\n",
    "    # print file name and sentiment\n",
    "    print('{} : {} ({})'.format(reviews[review_num]['id'], sentiment, sentiment_score))"
   ]
  },
  {
   "cell_type": "markdown",
   "metadata": {},
   "source": [
    "## Extract Known Entities\n",
    "\n",
    "*Entities* are things that might be mentioned in text that reference some commonly understood type of item. For example, a location, a person, or a date. Let's suppose you're interested in datea and places mentioned in the reviews - you can use the following code to find them."
   ],
   "execution_count": null,
   "outputs": []
  },
  {
   "cell_type": "code",
   "execution_count": 5,
   "metadata": {},
   "outputs": [
    {
     "output_type": "stream",
     "name": "stdout",
     "text": "review4.txt\n - Location: San Francisco (https://en.wikipedia.org/wiki/San_Francisco)\n - Location: Lombard \n - Location: Lombard Street (San Francisco) (https://en.wikipedia.org/wiki/Lombard_Street_(San_Francisco))\n - Location: Golden Gate Bridge (https://en.wikipedia.org/wiki/Golden_Gate_Bridge)\n - DateTime: from early morning \n - DateTime: night \n - DateTime: the next day \n - Location: Marina District, San Francisco (https://en.wikipedia.org/wiki/Marina_District,_San_Francisco)\n - Location: Marina \n - Location: Presidio of San Francisco (https://en.wikipedia.org/wiki/Presidio_of_San_Francisco)\nreview1.txt\n - Location: London (https://en.wikipedia.org/wiki/London)\n - DateTime: 3/2/2018 \n - Location: Buckingham Palace (https://en.wikipedia.org/wiki/Buckingham_Palace)\n - Location: Westminster Abbey (https://en.wikipedia.org/wiki/Westminster_Abbey)\nreview3.txt\n - Location: San Francisco (https://en.wikipedia.org/wiki/San_Francisco)\n - DateTime: 8/16/2018 \n - DateTime: August \n - Location: Chestnut Street \n - Location: Marina District, San Francisco (https://en.wikipedia.org/wiki/Marina_District,_San_Francisco)\n - Location: Marina \n - Location: Golden Gate Bridge (https://en.wikipedia.org/wiki/Golden_Gate_Bridge)\n - Location: Lombard Street (San Francisco) (https://en.wikipedia.org/wiki/Lombard_Street_(San_Francisco))\nreview2.txt\n - Location: London (https://en.wikipedia.org/wiki/London)\n - Location: United Kingdom \n - DateTime: 5/6/2018 \n - DateTime: since 1950's \n - DateTime: now \n - Location: British Museum (https://en.wikipedia.org/wiki/British_Museum)\n"
    }
   ],
   "source": [
    "# Use the client and reviews you created in the previous code cells to get named entities\n",
    "entity_analysis = text_analytics_client.entities(documents=reviews)\n",
    "\n",
    "# Print the results for each review\n",
    "for review_num in range(len(reviews)):\n",
    "    print(reviews[review_num]['id'])\n",
    "    # Get the named entitites in this review\n",
    "    entities = entity_analysis.documents[review_num].entities\n",
    "    for entity in entities:\n",
    "        # Only get location entitites\n",
    "        if entity.type in ['DateTime','Location']:\n",
    "            link = '(' + entity.wikipedia_url + ')' if entity.wikipedia_id is not None else ''\n",
    "            print(' - {}: {} {}'.format(entity.type, entity.name, link))"
   ]
  },
  {
   "cell_type": "markdown",
   "execution_count": null,
   "metadata": {},
   "outputs": [],
   "source": [
    "Note that some entities are sufficiently well-known to have an associated Wikipedia page, in which case the Text Analytics service returns the URL for that page.\n",
    "\n",
    "## Learn More\n",
    "\n",
    "For more information about the Text Analytics service, see [the Text Analytics service documentation](https://docs.microsoft.com/azure/cognitive-services/text-analytics/)"
   ]
  }
 ]
}