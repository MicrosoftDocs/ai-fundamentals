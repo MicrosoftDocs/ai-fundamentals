{
 "cells": [
  {
   "cell_type": "markdown",
   "metadata": {},
   "source": [
    "# 画像分類\n",
    "\n",
    "*Computer Vision*コグニティブサービスでは、画像を扱うための便利なモデルがあらかじめ用意されていますが、コンピュータビジョンのために独自のモデルをトレーニングする必要があることがよくあります。例えば、ノースウインド・トレーダーズの小売会社が、レジでカメラで撮影した画像に基づいて、顧客が購入したい食料品を識別する自動レジシステムを作成したいとします。そのためには、画像を分類して購入する商品を識別する分類モデルを訓練する必要があります。\n",
    "\n",
    "<p style='text-align:center'><img src='./images/image-classification.jpg' alt='A robot holding a clipboard, classifying pictures of an apple, a banana, and an orange'/></p>クリップボードを持ったロボットがリンゴ、バナナ、オレンジの画像を分類しています。\n",
    "\n",
    "Azureでは、**Custom Vision***コグニティブサービスを使用して、既存の画像に基づいて画像分類モデルをトレーニングすることができます。画像分類ソリューションを作成するには、2つの要素があります。まず、既存の画像を使用して異なるクラスを認識するモデルを訓練する必要があります。次に、モデルが訓練されたら、アプリケーションで利用できるサービスとして公開する必要があります。\n",
    "\n",
    "## カスタムビジョンリソースを作成する\n",
    "\n",
    "カスタムビジョンサービスを使用するには、モデルを*トレーニング*するために使用できるAzureリソースと、アプリケーションが使用するために*公開*できるリソースが必要です。どちらか（または両方）のタスクのリソースは、一般的な**Cognitive Services**リソースか、特定の**Custom Vision**リソースにすることができます。これらのタスクのそれぞれに同じコグニティブサービスリソースを使用することもできますし、コストを個別に管理するために、タスクごとに異なるリソース（同じリージョン内）を使用することもできます。\n",
    "\n",
    "以下の手順を使用して、新しい**Custom Vision**リソースを作成します。\n",
    "\n",
    "1. 新しいブラウザタブで、[https://portal.azure.com](https://portal.azure.com)のAzureポータルを開き、Azureサブスクリプションに関連付けられたMicrosoftアカウントを使用してサインインします。\n",
    "2. リソースの作成**ボタンを選択し、*カスタムビジョン**を検索し、以下の設定で**カスタムビジョン**リソースを作成します。:\n",
    "    - **Create options**: Both\n",
    "    - **Subscription**: *Your Azure subscription*\n",
    "    - **Resource group**: *Create a new resource group with a unique name*\n",
    "    - **Name**: *Enter a unique name*\n",
    "    - **Training location**: *Choose any available region*\n",
    "    - **Training pricing tier**: F0\n",
    "    - **Prediction location**: *The same region as the training resource*\n",
    "    - **Prediction pricing tier**: F0\n",
    "\n",
    "    > **注意**: すでにF0カスタムビジョンサービスを契約している場合は、**S0**を選択してください。\n",
    "    \n",
    "3. リソースが作成されるのを待ち、2 つのカスタムビジョンリソースがプロビジョニングされていることに注意してください。これらのリソースは、作成したリソースグループに移動して表示することができます。\n",
    "\n",
    "\n",
    "## Custom Visionプロジェクトを作成する\n",
    "\n",
    "オブジェクト検出モデルをトレーニングするには、トレーニングリソースに基づいてCustom Visionプロジェクトを作成する必要があります。これを行うには、Custom Vision ポータルを使用します。\n",
    "\n",
    "1. https://aka.ms/fruit-images からトレーニング画像をダウンロードして抽出します。\n",
    "2. 別のブラウザタブで、[https://customvision.ai](https://customvision.ai)のCustom Visionポータルを開きます。プロンプトが表示されたら、Azure サブスクリプションに関連付けられた Microsoft アカウントを使用してサインインし、利用規約に同意します。\n",
    "3. Custom Vision ポータルで、以下の設定で新しいプロジェクトを作成します。:\n",
    "    - **Name**: Grocery Checkout\n",
    "    - **Description**: Image classification for groceries\n",
    "    - **Resource**: *The Custom Vision resource you created previously*\n",
    "    - **Project Types**: Classification\n",
    "    - **Classification Types**: Multiclass (single tag per image)\n",
    "    - **Domains**: Food\n",
    "4. **\\[+\\] Add images**をクリックし、先ほど解凍した**apple**フォルダ内のファイルを全て選択します。そして、このように *apple* というタグを指定して画像ファイルをアップロードします。\n",
    "    <p style='text-align:center'><img src='./images/upload_apples.jpg' alt='Upload apple with apple tag'/></p>\n",
    "5. 前の手順を繰り返して、**banana**フォルダ内の画像を*banana*タグでアップロードし、**orange**フォルダ内の画像を*orange*タグでアップロードします。\n",
    "6. Custom Visionプロジェクトでアップロードした画像を見てみましょう。\n",
    "    <p style='text-align:center'><img src='./images/fruit.jpg' alt='果物のタグ付き画像 - リンゴ15個、バナナ15個、オレンジ15個'/></p>\n",
    "7. カスタムビジョンプロジェクトで、画像の上にある **トレーニング** をクリックして、タグ付けされた画像を使用して分類モデルをトレーニングします。**クイックトレーニング** オプションを選択し、トレーニングの反復が完了するのを待ちます（1分ほどかかる場合があります）。\n",
    "8. モデルの反復訓練が完了したら、*Precision*、*Recall*、および*AP*のパフォーマンスメトリクスを確認します - これらは、分類モデルの予測精度を測定するもので、すべてが高いはずです。\n",
    "\n",
    "## モデルをテストする\n",
    "\n",
    "アプリケーションが使用するためにこのモデルを公開する前に、テストを行う必要があります。\n",
    "\n",
    "1. パフォーマンス・メトリクスの上で、***クイック・テスト**をクリックします。\n",
    "2. **画像URL**ボックスに`https://aka.ms/apple-image`と入力して、 &#10132 をクリックします。\n",
    "3. モデルによって返された予測値を表示します - *apple* の確率スコアが最も高くなっているはずです。\n",
    "    <p style='text-align:center'><img src='./images/test-apple.jpg' alt='リンゴのクラス予測を持つ画像'/></p>\n",
    "4. **クイックテスト**ウィンドウを閉じます。\n",
    "\n",
    "\n",
    "## 画像分類モデルを公開して利用する\n",
    "\n",
    "これで訓練されたモデルを公開し、クライアントアプリケーションから使用する準備が整いました。\n",
    "\n",
    "9. **&#128504; Publish**をクリックして、訓練されたモデルを以下の設定で公開します。\n",
    "    - **モデル名**: groceries\n",
    "    - **予測リソース**: *以前に作成した予測リソース*\n",
    "10. 10. 公開後、**Performance**ページの右上にある *settings* (&#9881;)アイコンをクリックして、プロジェクトの設定を表示します。次に、**一般**（左側）の下にある**プロジェクトID**をコピーして、以下のコードセルに貼り付けます（**YOUR_PROJECT_ID**を置き換えます）。\n",
    "\n",
    "    <p style='text-align:center'><img src='./images/cv_project_settings.jpg' alt='Project ID in project settings'/></p>\n",
    "\n",
    "> _**Note**: この演習の最初に **Custom Vision** リソースを作成せずに **Cognitive Services** リソースを使用した場合は、プロジェクト設定の右側にあるキーとエンドポイントをコピーして、以下のコードセルに貼り付け、実行して結果を確認することができます。それ以外の場合は、以下の手順を実行して、カスタムビジョン予測リソースのキーとエンドポイントを取得します。\n",
    "\n",
    "11. **プロジェクト設定**ページの左上にある*プロジェクトギャラリー* (&#128065;) アイコンをクリックして、カスタムビジョンポータルのホームページに戻ります。\n",
    "12. Custom Vision ポータルのホームページの右上にある *settings* (&#9881;) アイコンをクリックして、Custom Vision サービスの設定を表示します。次に、**リソース**で、*予測*リソース(<トレーニングリソースでは**ありません**)を展開し、**キー**と**エンドポイント**の値を以下のコードセルにコピーし、**YOUR_KEY**と**YOUR_ENDPOINT**を置き換えます。\n",
    "\n",
    "    <p style='text-align:center'><img src='./images/cv_settings.jpg' alt='Prediction resource key and endpoint in custom vision settings'/></p>\n",
    "13. 以下のコードセルを実行して、変数をプロジェクトID、キー、エンドポイントの値に設定します。"
   ]
  },
  {
   "cell_type": "code",
   "execution_count": null,
   "metadata": {},
   "outputs": [],
   "source": [
    "project_id = 'YOUR_PROJECT_ID'\n",
    "cv_key = 'YOUR_KEY'\n",
    "cv_endpoint = 'YOUR_ENDPOINT'\n",
    "\n",
    "model_name = 'groceries' # これは，モデルを公開する際に設定したモデル名と一致しなければなりません（大文字と小文字が区別されます）!\n",
    "print('Ready to predict using model {} in project {}'.format(model_name, project_id))"
   ]
  },
  {
   "source": [
    "そしてPythonからCustom Visionサービスを使うには、まずAzure Cognitive Services Custom Visionのパッケージをインストールする必要があります。"
   ],
   "cell_type": "markdown",
   "metadata": {}
  },
  {
   "cell_type": "code",
   "execution_count": null,
   "metadata": {},
   "outputs": [],
   "source": [
    "!pip install azure-cognitiveservices-vision-customvision"
   ]
  },
  {
   "cell_type": "markdown",
   "metadata": {},
   "source": [
    "これであなたのキーとエンドポイントでCustom Visionを使う準備が完了します。\n",
    "\n",
    "クライアントアプリケーションは、上記の詳細を使用して、カスタムビジョン分類モデルに接続することができます。\n",
    "\n",
    "以下のコードセルを実行して、公開モデルを使用してテスト画像を分類します。\n",
    "\n",
    "\n",
    "> **注意**. コードの詳細についてはあまり気にしないでください。これは、/data/image-classification/test-fruit フォルダ内の各画像のクラス予測を取得するために、Computer Vision SDK for Python を使用しています。"
   ]
  },
  {
   "cell_type": "code",
   "execution_count": null,
   "metadata": {},
   "outputs": [],
   "source": [
    "from azure.cognitiveservices.vision.customvision.prediction import CustomVisionPredictionClient\n",
    "import matplotlib.pyplot as plt\n",
    "from PIL import Image\n",
    "import os\n",
    "%matplotlib inline\n",
    "\n",
    "# data/vision/testフォルダからテスト画像を取得します.\n",
    "test_folder = os.path.join('data', 'image-classification', 'test-fruit')\n",
    "test_images = os.listdir(test_folder)\n",
    "\n",
    "# 予測サービスのインスタンスを作成します\n",
    "credentials = ApiKeyCredentials(in_headers={\"Prediction-key\": cv_key})\n",
    "custom_vision_client = CustomVisionPredictionClient(endpoint=cv_endpoint, credentials=credentials)\n",
    "\n",
    "# 結果を表示するための図を作成する\n",
    "fig = plt.figure(figsize=(16, 8))\n",
    "\n",
    "# 画像を取得し，それぞれの予測されるクラスを表示します．\n",
    "print('Classifying images in {} ...'.format(test_folder))\n",
    "for i in range(len(test_images)):\n",
    "    # 画像を開き，カスタムビジョンモデルを用いて分類します\n",
    "    image_contents = open(os.path.join(test_folder, test_images[i]), \"rb\")\n",
    "    classification = custom_vision_client.classify_image(project_id, model_name, image_contents.read())\n",
    "    # 画像を開き，カスタムビジョンモデルを用いて分類します\n",
    "    prediction = classification.predictions[0].tag_name\n",
    "    # 予測されたクラスで画像を表示します\n",
    "    img = Image.open(os.path.join(test_folder, test_images[i]))\n",
    "    a=fig.add_subplot(len(test_images)/3, 3,i+1)\n",
    "    a.axis('off')\n",
    "    imgplot = plt.imshow(img)\n",
    "    a.set_title(prediction)\n",
    "plt.show()"
   ]
  },
  {
   "cell_type": "markdown",
   "metadata": {},
   "source": [
    "うまくいけば、画像分類モデルが画像内の食料品を正しく識別できます。\n",
    "\n",
    "## Learn more\n",
    "カスタムビジョンサービスは、この演習で説明した以上の機能を提供します。例えば、Custom Visionサービスを使用して、*オブジェクト検出*モデルを作成することもできます。\n",
    "\n",
    "Custom Visionコグニティブサービスの詳細については、[Custom Visionドキュメント]を参照してください(https://docs.microsoft.com/azure/cognitive-services/custom-vision-service/home)"
   ]
  },
  {
   "cell_type": "code",
   "execution_count": null,
   "metadata": {},
   "outputs": [],
   "source": []
  }
 ],
 "metadata": {
  "kernelspec": {
   "display_name": "Python 3",
   "language": "python",
   "name": "python3"
  },
  "language_info": {
   "codemirror_mode": {
    "name": "ipython",
    "version": 3
   },
   "file_extension": ".py",
   "mimetype": "text/x-python",
   "name": "python",
   "nbconvert_exporter": "python",
   "pygments_lexer": "ipython3",
   "version": "3.6.9"
  }
 },
 "nbformat": 4,
 "nbformat_minor": 4
}