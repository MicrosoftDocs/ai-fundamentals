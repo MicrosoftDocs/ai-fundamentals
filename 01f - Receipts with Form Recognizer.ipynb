{
 "cells": [
  {
   "cell_type": "markdown",
   "metadata": {},
   "source": [
    "# Form Recognizerでレシートを分析する\n",
    "\n",
    "<p style='text-align:center'><img src='./images/receipt_analysis.jpg' alt='レシートを持つロボット'/></p>\n",
    "\n",
    "コンピュータビジョンの人工知能（AI）分野では、印刷された文書や手書きの文書を読み取るために光学式文字認識（OCR）が一般的に使用されています。多くの場合、テキストは単に文書から、さらなる処理や分析に使用できる形式に抽出されます。\n",
    "\n",
    "より高度な OCR のシナリオは、発注書や請求書などのフォームから、フォームのフィールドが何を表しているかを意味的に理解した上で情報を抽出することです。**Form Recognizer**サービスは、この種のAI問題のために特別に設計されています。\n",
    "\n",
    "## レシートを見る\n",
    "\n",
    "この例では、レシートを分析するために Form Recognizer のビルトインモデルを使用します。\n",
    "\n",
    "下のセルの左上にある緑色の <span style=\"color:green\">&#9655;</span> ボタンをクリックして実行し、Form Recognizer を使ってレシートを分析する例を見てみましょう。"
   ]
  },
  {
   "cell_type": "code",
   "execution_count": null,
   "metadata": {},
   "outputs": [],
   "source": [
    "import matplotlib.pyplot as plt\n",
    "from PIL import Image\n",
    "import os\n",
    "%matplotlib inline\n",
    "\n",
    "\n",
    "# レシート画像を読み込んで表示する\n",
    "fig = plt.figure(figsize=(6, 6))\n",
    "image_path = os.path.join('data', 'form-receipt', 'receipt.jpg')\n",
    "img = Image.open(image_path)\n",
    "plt.axis('off')\n",
    "plt.imshow(img)"
   ]
  },
  {
   "cell_type": "markdown",
   "metadata": {},
   "source": [
    "## Form Recognizer リソースを作成する\n",
    "\n",
    "Azureサブスクリプションでフォームレコグナイザーリソースを作成することから始めます。\n",
    "\n",
    "1. 別のブラウザタブで、https://portal.azure.com の Azure ポータルを開き、Microsoft アカウントでサインインします。\n",
    "2. **+リソースの作成**を選択し、*Form Recognizer*を検索します。\n",
    "3. サービスのリストで、***Form Recognizer**を選択します。\n",
    "4. **Form Recognizer**ブレードで、**Create**を選択します。\n",
    "5. **Create**ブレードで、以下の詳細を入力し、**Create**を選択します。\n",
    "  * **Name**: サービスのユニークな名前\n",
    "  * **Subscription**: あなたのAzureサブスクリプション\n",
    "  * **Location**: 利用可能な場所\n",
    "  * **Pricing tier**: F0\n",
    "  * **Resource Group**: 以前に使用した既存のリソースグループ\n",
    "  * **I confirm I have read and understood the notice below**: 選択.\n",
    "6. サービスが作成されるのを待ちます。\n",
    "7. Azureポータルで新しく作成したフォームレコグナイザーサービスを表示し、**クイックスタート**ページで**Key1**と**Endpoint**の値をコピーして、**YOUR_FORM_KEY**と**YOUR_FORM_ENDPOINT**を置き換えて、以下のコードセルに貼り付けます。"
   ]
  },
  {
   "cell_type": "code",
   "execution_count": null,
   "metadata": {},
   "outputs": [],
   "source": [
    "form_key = 'YOUR_FORM_KEY'\n",
    "form_endpoint = 'YOUR_FORM_ENDPOINT'\n",
    "\n",
    "print('Ready to use form recognizer at {} using key {}'.format(form_endpoint, form_key))"
   ]
  },
  {
   "source": [
    "これでCognitive Servicesのセットアップが完了しました。\n",
    "\n",
    "そしてPythonから本演習を実行するには、まずAzureの関連パッケージをインストールする必要があります。"
   ],
   "cell_type": "markdown",
   "metadata": {}
  },
  {
   "cell_type": "code",
   "execution_count": null,
   "metadata": {},
   "outputs": [],
   "source": [
    "! pip install azure_ai_formrecognizer"
   ]
  },
  {
   "cell_type": "markdown",
   "metadata": {},
   "source": [
    "## レシートを分析する\n",
    "\n",
    "これで、Form Recognizerを使ってレシートを分析する準備ができました。"
   ]
  },
  {
   "cell_type": "code",
   "execution_count": null,
   "metadata": {},
   "outputs": [],
   "source": [
    "from python_code import form_recognizer\n",
    "import os\n",
    "\n",
    "try:\n",
    "    # 画像データを読み込む\n",
    "    image_path = os.path.join('data', 'form-receipt', 'receipt.jpg')\n",
    "    with open(image_path, \"rb\") as f:\n",
    "        data = f.read()\n",
    "    \n",
    "    # 画像データをフォームレコグナイザーに送信する\n",
    "    receipt_data = form_recognizer.get_form_data(form_key, form_endpoint, data)\n",
    "\n",
    "    # 結果を印刷する\n",
    "    print('\\n')\n",
    "    for field in receipt_data:\n",
    "        print(field, receipt_data[field])\n",
    "\n",
    "except Exception as ex:\n",
    "    print('Error:', ex)"
   ]
  },
  {
   "cell_type": "markdown",
   "metadata": {},
   "source": [
    "From Recognizerは、フォーム内のデータを解釈し、加盟店の住所、電話番号、取引日時、ラインアイテム、小計、税金、合計金額を正しく識別することができます。\n",
    "\n",
    "> **Note**: Form Recognizerにリクエストを送信し、結果を処理するためのコードに興味がある場合は、**python_code**フォルダ内の**form_recognizer.py**ファイルを参照してください。\n",
    "\n",
    "## More Information\n",
    "\n",
    "Form Recognizerサービスの詳細については、[Form Recognizerのドキュメント](https://docs.microsoft.com/en-us/azure/cognitive-services/form-recognizer/index)を参照してください。"
   ]
  }
 ],
 "metadata": {
  "kernelspec": {
   "display_name": "Python 3",
   "language": "python",
   "name": "python3"
  },
  "language_info": {
   "codemirror_mode": {
    "name": "ipython",
    "version": 3
   },
   "file_extension": ".py",
   "mimetype": "text/x-python",
   "name": "python",
   "nbconvert_exporter": "python",
   "pygments_lexer": "ipython3",
   "version": "3.6.9"
  }
 },
 "nbformat": 4,
 "nbformat_minor": 4
}